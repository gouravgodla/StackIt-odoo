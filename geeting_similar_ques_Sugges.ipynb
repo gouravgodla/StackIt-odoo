{
 "cells": [
  {
   "cell_type": "code",
   "id": "initial_id",
   "metadata": {
    "collapsed": true,
    "ExecuteTime": {
     "end_time": "2025-07-12T05:00:29.783228Z",
     "start_time": "2025-07-12T05:00:29.779142Z"
    }
   },
   "source": [
    "from sklearn.feature_extraction.text import TfidfVectorizer\n",
    "from sklearn.metrics.pairwise import cosine_similarity\n",
    "import pandas as pd\n",
    "import numpy as np"
   ],
   "outputs": [],
   "execution_count": 2
  },
  {
   "metadata": {},
   "cell_type": "markdown",
   "source": "## loading dataset",
   "id": "83c4b6b3c041aae6"
  },
  {
   "metadata": {
    "ExecuteTime": {
     "end_time": "2025-07-12T05:31:38.324170Z",
     "start_time": "2025-07-12T05:31:37.400451Z"
    }
   },
   "cell_type": "code",
   "source": "ques_df=pd.read_csv('Questions.csv',encoding='latin1')",
   "id": "e90854da8467cdb1",
   "outputs": [],
   "execution_count": 11
  },
  {
   "metadata": {
    "ExecuteTime": {
     "end_time": "2025-07-12T05:31:57.403027Z",
     "start_time": "2025-07-12T05:31:57.392529Z"
    }
   },
   "cell_type": "code",
   "source": "ques_df.head()",
   "id": "9af50c2484bc4d48",
   "outputs": [
    {
     "data": {
      "text/plain": [
       "   Id  OwnerUserId          CreationDate  Score  \\\n",
       "0   6          5.0  2010-07-19T19:14:44Z    272   \n",
       "1  21         59.0  2010-07-19T19:24:36Z      4   \n",
       "2  22         66.0  2010-07-19T19:25:39Z    208   \n",
       "3  31         13.0  2010-07-19T19:28:44Z    138   \n",
       "4  36          8.0  2010-07-19T19:31:47Z     58   \n",
       "\n",
       "                                               Title  \\\n",
       "0  The Two Cultures: statistics vs. machine learn...   \n",
       "1                     Forecasting demographic census   \n",
       "2  Bayesian and frequentist reasoning in plain En...   \n",
       "3  What is the meaning of p values and t values i...   \n",
       "4  Examples for teaching: Correlation does not me...   \n",
       "\n",
       "                                                Body  \n",
       "0  <p>Last year, I read a blog post from <a href=...  \n",
       "1  <p>What are some of the ways to forecast demog...  \n",
       "2  <p>How would you describe in plain English the...  \n",
       "3  <p>After taking a statistics course and then t...  \n",
       "4  <p>There is an old saying: \"Correlation does n...  "
      ],
      "text/html": [
       "<div>\n",
       "<style scoped>\n",
       "    .dataframe tbody tr th:only-of-type {\n",
       "        vertical-align: middle;\n",
       "    }\n",
       "\n",
       "    .dataframe tbody tr th {\n",
       "        vertical-align: top;\n",
       "    }\n",
       "\n",
       "    .dataframe thead th {\n",
       "        text-align: right;\n",
       "    }\n",
       "</style>\n",
       "<table border=\"1\" class=\"dataframe\">\n",
       "  <thead>\n",
       "    <tr style=\"text-align: right;\">\n",
       "      <th></th>\n",
       "      <th>Id</th>\n",
       "      <th>OwnerUserId</th>\n",
       "      <th>CreationDate</th>\n",
       "      <th>Score</th>\n",
       "      <th>Title</th>\n",
       "      <th>Body</th>\n",
       "    </tr>\n",
       "  </thead>\n",
       "  <tbody>\n",
       "    <tr>\n",
       "      <th>0</th>\n",
       "      <td>6</td>\n",
       "      <td>5.0</td>\n",
       "      <td>2010-07-19T19:14:44Z</td>\n",
       "      <td>272</td>\n",
       "      <td>The Two Cultures: statistics vs. machine learn...</td>\n",
       "      <td>&lt;p&gt;Last year, I read a blog post from &lt;a href=...</td>\n",
       "    </tr>\n",
       "    <tr>\n",
       "      <th>1</th>\n",
       "      <td>21</td>\n",
       "      <td>59.0</td>\n",
       "      <td>2010-07-19T19:24:36Z</td>\n",
       "      <td>4</td>\n",
       "      <td>Forecasting demographic census</td>\n",
       "      <td>&lt;p&gt;What are some of the ways to forecast demog...</td>\n",
       "    </tr>\n",
       "    <tr>\n",
       "      <th>2</th>\n",
       "      <td>22</td>\n",
       "      <td>66.0</td>\n",
       "      <td>2010-07-19T19:25:39Z</td>\n",
       "      <td>208</td>\n",
       "      <td>Bayesian and frequentist reasoning in plain En...</td>\n",
       "      <td>&lt;p&gt;How would you describe in plain English the...</td>\n",
       "    </tr>\n",
       "    <tr>\n",
       "      <th>3</th>\n",
       "      <td>31</td>\n",
       "      <td>13.0</td>\n",
       "      <td>2010-07-19T19:28:44Z</td>\n",
       "      <td>138</td>\n",
       "      <td>What is the meaning of p values and t values i...</td>\n",
       "      <td>&lt;p&gt;After taking a statistics course and then t...</td>\n",
       "    </tr>\n",
       "    <tr>\n",
       "      <th>4</th>\n",
       "      <td>36</td>\n",
       "      <td>8.0</td>\n",
       "      <td>2010-07-19T19:31:47Z</td>\n",
       "      <td>58</td>\n",
       "      <td>Examples for teaching: Correlation does not me...</td>\n",
       "      <td>&lt;p&gt;There is an old saying: \"Correlation does n...</td>\n",
       "    </tr>\n",
       "  </tbody>\n",
       "</table>\n",
       "</div>"
      ]
     },
     "execution_count": 12,
     "metadata": {},
     "output_type": "execute_result"
    }
   ],
   "execution_count": 12
  },
  {
   "metadata": {
    "ExecuteTime": {
     "end_time": "2025-07-12T06:00:36.698547Z",
     "start_time": "2025-07-12T06:00:36.638856Z"
    }
   },
   "cell_type": "code",
   "source": "tags_df=pd.read_csv('Tags.csv')",
   "id": "dc071690ac4cabd1",
   "outputs": [],
   "execution_count": 33
  },
  {
   "metadata": {
    "ExecuteTime": {
     "end_time": "2025-07-12T06:00:44.377840Z",
     "start_time": "2025-07-12T06:00:44.369577Z"
    }
   },
   "cell_type": "code",
   "source": "tags_df.head()",
   "id": "896abd17561fa1c1",
   "outputs": [
    {
     "data": {
      "text/plain": [
       "   Id            Tag\n",
       "0   1       bayesian\n",
       "1   1          prior\n",
       "2   1    elicitation\n",
       "3   2  distributions\n",
       "4   2      normality"
      ],
      "text/html": [
       "<div>\n",
       "<style scoped>\n",
       "    .dataframe tbody tr th:only-of-type {\n",
       "        vertical-align: middle;\n",
       "    }\n",
       "\n",
       "    .dataframe tbody tr th {\n",
       "        vertical-align: top;\n",
       "    }\n",
       "\n",
       "    .dataframe thead th {\n",
       "        text-align: right;\n",
       "    }\n",
       "</style>\n",
       "<table border=\"1\" class=\"dataframe\">\n",
       "  <thead>\n",
       "    <tr style=\"text-align: right;\">\n",
       "      <th></th>\n",
       "      <th>Id</th>\n",
       "      <th>Tag</th>\n",
       "    </tr>\n",
       "  </thead>\n",
       "  <tbody>\n",
       "    <tr>\n",
       "      <th>0</th>\n",
       "      <td>1</td>\n",
       "      <td>bayesian</td>\n",
       "    </tr>\n",
       "    <tr>\n",
       "      <th>1</th>\n",
       "      <td>1</td>\n",
       "      <td>prior</td>\n",
       "    </tr>\n",
       "    <tr>\n",
       "      <th>2</th>\n",
       "      <td>1</td>\n",
       "      <td>elicitation</td>\n",
       "    </tr>\n",
       "    <tr>\n",
       "      <th>3</th>\n",
       "      <td>2</td>\n",
       "      <td>distributions</td>\n",
       "    </tr>\n",
       "    <tr>\n",
       "      <th>4</th>\n",
       "      <td>2</td>\n",
       "      <td>normality</td>\n",
       "    </tr>\n",
       "  </tbody>\n",
       "</table>\n",
       "</div>"
      ]
     },
     "execution_count": 34,
     "metadata": {},
     "output_type": "execute_result"
    }
   ],
   "execution_count": 34
  },
  {
   "metadata": {},
   "cell_type": "markdown",
   "source": "### Merging files in one",
   "id": "c8b8ac07f580f754"
  },
  {
   "metadata": {
    "ExecuteTime": {
     "end_time": "2025-07-12T06:14:24.460952Z",
     "start_time": "2025-07-12T06:14:23.714139Z"
    }
   },
   "cell_type": "code",
   "source": [
    "# If multiple tags per question, group them\n",
    "tags_grouped = tags_df.groupby('Id')['Tag'].apply(lambda x: ' '.join(x)).reset_index()\n",
    "\n",
    "# Merge tags into questions\n",
    "questions_df = ques_df.merge(tags_grouped, how='left', on='Id')\n",
    "questions_df['Tag'] = questions_df['Tag'].fillna('')\n"
   ],
   "id": "ea4d31caee9fbd29",
   "outputs": [],
   "execution_count": 44
  },
  {
   "metadata": {
    "ExecuteTime": {
     "end_time": "2025-07-12T06:15:01.328878Z",
     "start_time": "2025-07-12T06:15:01.219201Z"
    }
   },
   "cell_type": "code",
   "source": [
    "# Get only one answer per question — the first one\n",
    "first_answers = ans_df.sort_values(by='CreationDate').drop_duplicates(subset='ParentId', keep='first')\n",
    "\n",
    "# Rename for clarity and merge\n",
    "first_answers = first_answers.rename(columns={'Body': 'Answer'})\n",
    "questions_df = questions_df.merge(first_answers[['ParentId', 'Answer']], how='left', left_on='Id', right_on='ParentId')\n",
    "questions_df['Answer'] = questions_df['Answer'].fillna('')\n"
   ],
   "id": "7de266d71d2e7fa4",
   "outputs": [],
   "execution_count": 45
  },
  {
   "metadata": {
    "ExecuteTime": {
     "end_time": "2025-07-12T06:15:11.975931Z",
     "start_time": "2025-07-12T06:15:11.714987Z"
    }
   },
   "cell_type": "code",
   "source": [
    "# Combine title + tags + answer into one searchable text\n",
    "questions_df['TextForSimilarity'] = (\n",
    "    questions_df['Title'].fillna('') + ' ' +\n",
    "    questions_df['Tag'].fillna('') + ' ' +\n",
    "    questions_df['Answer'].fillna('')\n",
    ")\n"
   ],
   "id": "b73bef12bdfc8556",
   "outputs": [],
   "execution_count": 46
  },
  {
   "metadata": {},
   "cell_type": "markdown",
   "source": "Vectorizing the coulumn",
   "id": "d8cc1c05f394135a"
  },
  {
   "metadata": {},
   "cell_type": "markdown",
   "source": "### TF-IDF + Cosine Similarity",
   "id": "a16e1ff7603f245e"
  },
  {
   "metadata": {
    "ExecuteTime": {
     "end_time": "2025-07-12T06:15:25.247100Z",
     "start_time": "2025-07-12T06:15:19.491314Z"
    }
   },
   "cell_type": "code",
   "source": [
    "from sklearn.feature_extraction.text import TfidfVectorizer\n",
    "from sklearn.metrics.pairwise import cosine_similarity\n",
    "\n",
    "# Vectorize\n",
    "vectorizer = TfidfVectorizer(stop_words='english')\n",
    "tfidf_matrix = vectorizer.fit_transform(questions_df['TextForSimilarity'])\n"
   ],
   "id": "7213bf4670701049",
   "outputs": [],
   "execution_count": 47
  },
  {
   "metadata": {},
   "cell_type": "markdown",
   "source": "### defining function to find similar questions",
   "id": "79aaa4e734c4baef"
  },
  {
   "metadata": {
    "ExecuteTime": {
     "end_time": "2025-07-12T06:15:32.936083Z",
     "start_time": "2025-07-12T06:15:32.929353Z"
    }
   },
   "cell_type": "code",
   "source": [
    "def find_similar_questions(user_question, top_n=5):\n",
    "    user_vec = vectorizer.transform([user_question])\n",
    "    sim_scores = cosine_similarity(user_vec, tfidf_matrix).flatten()\n",
    "    top_indices = sim_scores.argsort()[-top_n:][::-1]\n",
    "\n",
    "    return questions_df.iloc[top_indices][['Id', 'Title', 'Tag', 'Answer']]\n"
   ],
   "id": "56f6a03e59ea6eb0",
   "outputs": [],
   "execution_count": 48
  },
  {
   "metadata": {},
   "cell_type": "markdown",
   "source": "## Example",
   "id": "b78ec4e788f6dd"
  },
  {
   "metadata": {
    "ExecuteTime": {
     "end_time": "2025-07-12T06:16:04.608959Z",
     "start_time": "2025-07-12T06:16:04.524767Z"
    }
   },
   "cell_type": "code",
   "source": [
    "query = \"what is supervised learning?\"\n",
    "find_similar_questions(query)\n",
    "\n"
   ],
   "id": "5294ba4d87245489",
   "outputs": [
    {
     "data": {
      "text/plain": [
       "           Id                                              Title  \\\n",
       "44910  163219  Standard function for comparing regression (su...   \n",
       "30480  203715                       What algorithm should I use?   \n",
       "46127   89571        Supervised or unsupervised learning problem   \n",
       "16362  231336     combining supervised and unsupervised learning   \n",
       "55886  235719             Symmetry in supervised learning models   \n",
       "\n",
       "                                                     Tag  \\\n",
       "44910                     regression supervised-learning   \n",
       "30480      machine-learning bayesian supervised-learning   \n",
       "46127  machine-learning svm neural-networks unsupervi...   \n",
       "16362                     classification semi-supervised   \n",
       "55886                       supervised-learning symmetry   \n",
       "\n",
       "                                                  Answer  \n",
       "44910                                                     \n",
       "30480                                                     \n",
       "46127  <p>If you try supervised learning algorithms, ...  \n",
       "16362                                                     \n",
       "55886                                                     "
      ],
      "text/html": [
       "<div>\n",
       "<style scoped>\n",
       "    .dataframe tbody tr th:only-of-type {\n",
       "        vertical-align: middle;\n",
       "    }\n",
       "\n",
       "    .dataframe tbody tr th {\n",
       "        vertical-align: top;\n",
       "    }\n",
       "\n",
       "    .dataframe thead th {\n",
       "        text-align: right;\n",
       "    }\n",
       "</style>\n",
       "<table border=\"1\" class=\"dataframe\">\n",
       "  <thead>\n",
       "    <tr style=\"text-align: right;\">\n",
       "      <th></th>\n",
       "      <th>Id</th>\n",
       "      <th>Title</th>\n",
       "      <th>Tag</th>\n",
       "      <th>Answer</th>\n",
       "    </tr>\n",
       "  </thead>\n",
       "  <tbody>\n",
       "    <tr>\n",
       "      <th>44910</th>\n",
       "      <td>163219</td>\n",
       "      <td>Standard function for comparing regression (su...</td>\n",
       "      <td>regression supervised-learning</td>\n",
       "      <td></td>\n",
       "    </tr>\n",
       "    <tr>\n",
       "      <th>30480</th>\n",
       "      <td>203715</td>\n",
       "      <td>What algorithm should I use?</td>\n",
       "      <td>machine-learning bayesian supervised-learning</td>\n",
       "      <td></td>\n",
       "    </tr>\n",
       "    <tr>\n",
       "      <th>46127</th>\n",
       "      <td>89571</td>\n",
       "      <td>Supervised or unsupervised learning problem</td>\n",
       "      <td>machine-learning svm neural-networks unsupervi...</td>\n",
       "      <td>&lt;p&gt;If you try supervised learning algorithms, ...</td>\n",
       "    </tr>\n",
       "    <tr>\n",
       "      <th>16362</th>\n",
       "      <td>231336</td>\n",
       "      <td>combining supervised and unsupervised learning</td>\n",
       "      <td>classification semi-supervised</td>\n",
       "      <td></td>\n",
       "    </tr>\n",
       "    <tr>\n",
       "      <th>55886</th>\n",
       "      <td>235719</td>\n",
       "      <td>Symmetry in supervised learning models</td>\n",
       "      <td>supervised-learning symmetry</td>\n",
       "      <td></td>\n",
       "    </tr>\n",
       "  </tbody>\n",
       "</table>\n",
       "</div>"
      ]
     },
     "execution_count": 50,
     "metadata": {},
     "output_type": "execute_result"
    }
   ],
   "execution_count": 50
  },
  {
   "metadata": {},
   "cell_type": "code",
   "outputs": [],
   "execution_count": null,
   "source": "",
   "id": "8c3a0fa1df86e87a"
  }
 ],
 "metadata": {
  "kernelspec": {
   "display_name": "Python 3",
   "language": "python",
   "name": "python3"
  },
  "language_info": {
   "codemirror_mode": {
    "name": "ipython",
    "version": 2
   },
   "file_extension": ".py",
   "mimetype": "text/x-python",
   "name": "python",
   "nbconvert_exporter": "python",
   "pygments_lexer": "ipython2",
   "version": "2.7.6"
  }
 },
 "nbformat": 4,
 "nbformat_minor": 5
}
